{
 "cells": [
  {
   "cell_type": "code",
   "execution_count": 1,
   "source": [
    "from nltk.corpus import stopwords\n",
    "sentences = ['sky is nice','cloud is nice','sky is nice and cloud is nice']\n",
    "cleaned_sentence = []\n",
    "for sent in sentences:\n",
    "    word = sent.lower() # lower all sent so it dosnot treat upper case and lowercase differently\n",
    "    worwd = word.split()\n",
    "    # remove the stop words\n",
    "    words = [w for w in word if w not in set(stopwords.words('english'))]\n",
    "    word = \" \".join(word)\n",
    "    cleaned_sentence.append(word)\n",
    "\n",
    "print(cleaned_sentence)"
   ],
   "outputs": [
    {
     "output_type": "stream",
     "name": "stdout",
     "text": [
      "['s k y   i s   n i c e', 'c l o u d   i s   n i c e', 's k y   i s   n i c e   a n d   c l o u d   i s   n i c e']\n"
     ]
    }
   ],
   "metadata": {}
  },
  {
   "cell_type": "code",
   "execution_count": 2,
   "source": [
    "from nltk.corpus import stopwords\n",
    "sentences = ['sky is nice','cloud is nice','sky is nice and cloud is nice']\n",
    "cleaned_sentence = []\n",
    "for sent in sentences:\n",
    "    word = sent.lower() # lower all sent so it dosnot treat upper case and lowercase differently\n",
    "    worwd = word.split()\n",
    "    # remove the stop words\n",
    "    words = [w for w in word if w not in set(stopwords.words('english'))]\n",
    "    word = \"\".join(word)\n",
    "    cleaned_sentence.append(word)\n",
    "\n",
    "print(cleaned_sentence)"
   ],
   "outputs": [
    {
     "output_type": "stream",
     "name": "stdout",
     "text": [
      "['sky is nice', 'cloud is nice', 'sky is nice and cloud is nice']\n"
     ]
    }
   ],
   "metadata": {}
  },
  {
   "cell_type": "code",
   "execution_count": 5,
   "source": [
    "from sklearn.feature_extraction.text import CountVectorizer\n",
    "cv = CountVectorizer(max_features=3)\n",
    "bagofwords=cv.fit_transform(cleaned_sentence)\n",
    "\n",
    "bagofwords.toarray()"
   ],
   "outputs": [
    {
     "output_type": "execute_result",
     "data": {
      "text/plain": [
       "array([[0, 1, 1],\n",
       "       [1, 1, 1],\n",
       "       [1, 2, 2]], dtype=int64)"
      ]
     },
     "metadata": {},
     "execution_count": 5
    }
   ],
   "metadata": {}
  },
  {
   "cell_type": "code",
   "execution_count": 6,
   "source": [
    "import pandas as pd\n",
    "pd.DataFrame(bagofwords.toarray(),columns=['cloud','nice','sky'])"
   ],
   "outputs": [
    {
     "output_type": "execute_result",
     "data": {
      "text/html": [
       "<div>\n",
       "<style scoped>\n",
       "    .dataframe tbody tr th:only-of-type {\n",
       "        vertical-align: middle;\n",
       "    }\n",
       "\n",
       "    .dataframe tbody tr th {\n",
       "        vertical-align: top;\n",
       "    }\n",
       "\n",
       "    .dataframe thead th {\n",
       "        text-align: right;\n",
       "    }\n",
       "</style>\n",
       "<table border=\"1\" class=\"dataframe\">\n",
       "  <thead>\n",
       "    <tr style=\"text-align: right;\">\n",
       "      <th></th>\n",
       "      <th>cloud</th>\n",
       "      <th>nice</th>\n",
       "      <th>sky</th>\n",
       "    </tr>\n",
       "  </thead>\n",
       "  <tbody>\n",
       "    <tr>\n",
       "      <th>0</th>\n",
       "      <td>0</td>\n",
       "      <td>1</td>\n",
       "      <td>1</td>\n",
       "    </tr>\n",
       "    <tr>\n",
       "      <th>1</th>\n",
       "      <td>1</td>\n",
       "      <td>1</td>\n",
       "      <td>1</td>\n",
       "    </tr>\n",
       "    <tr>\n",
       "      <th>2</th>\n",
       "      <td>1</td>\n",
       "      <td>2</td>\n",
       "      <td>2</td>\n",
       "    </tr>\n",
       "  </tbody>\n",
       "</table>\n",
       "</div>"
      ],
      "text/plain": [
       "   cloud  nice  sky\n",
       "0      0     1    1\n",
       "1      1     1    1\n",
       "2      1     2    2"
      ]
     },
     "metadata": {},
     "execution_count": 6
    }
   ],
   "metadata": {}
  },
  {
   "cell_type": "code",
   "execution_count": 7,
   "source": [
    "cv.vocabulary_"
   ],
   "outputs": [
    {
     "output_type": "execute_result",
     "data": {
      "text/plain": [
       "{'is': 1, 'nice': 2, 'cloud': 0}"
      ]
     },
     "metadata": {},
     "execution_count": 7
    }
   ],
   "metadata": {}
  },
  {
   "cell_type": "code",
   "execution_count": 12,
   "source": [
    "from nltk.corpus import stopwords\n",
    "from sklearn.feature_extraction.text import CountVectorizer\n",
    "sentences = ['Game of Thrones is an amazing tv series!', \n",
    "             'Game of Thrones is the best tv series!', \n",
    "             'Game of Thrones is so great']\n",
    "cleaned_sentence = []\n",
    "for sent in sentences:\n",
    "    word = sent.lower()\n",
    "    word = sent.split()\n",
    "    word = [w for w in word if w not in set(stopwords.words('english'))]\n",
    "    word = \"\".join(word)\n",
    "    cleaned_sentence.append(word)\n",
    "print(cleaned_sentence)\n",
    "\n",
    "# feature extracrion\n",
    "cv = CountVectorizer()\n",
    "bagofwords = cv.fit_transform(cleaned_sentence).toarray()\n",
    "print(cv.vocabulary_)\n",
    "print(bagofwords)"
   ],
   "outputs": [
    {
     "output_type": "stream",
     "name": "stdout",
     "text": [
      "['GameThronesamazingtvseries!', 'GameThronesbesttvseries!', 'GameThronesgreat']\n",
      "{'gamethronesamazingtvseries': 0, 'gamethronesbesttvseries': 1, 'gamethronesgreat': 2}\n",
      "[[1 0 0]\n",
      " [0 1 0]\n",
      " [0 0 1]]\n"
     ]
    }
   ],
   "metadata": {}
  },
  {
   "cell_type": "code",
   "execution_count": 13,
   "source": [
    "################################ With logic##################################\n",
    "sen=' '.join(cleaned_sentence)\n",
    "l=list(set(sen.split()))\n",
    "print(\"vocabulary:\",l)\n",
    "d={}\n",
    "l1=[]\n",
    "for sentence in cleaned_sentence:\n",
    "    for i in l:\n",
    "        if i in sentence:\n",
    "            d[i]=1\n",
    "        else:\n",
    "            d[i]=0\n",
    "    myKeys = list(d.keys())\n",
    "    myKeys.sort()\n",
    "    sorted_dict = {i: d[i] for i in myKeys}\n",
    "    l1.append(sorted_dict)\n",
    "\n",
    "print(l1)\n",
    "l2=[i.values() for i in l1]\n",
    "l2"
   ],
   "outputs": [
    {
     "output_type": "stream",
     "name": "stdout",
     "text": [
      "vocabulary: ['GameThronesbesttvseries!', 'GameThronesamazingtvseries!', 'GameThronesgreat']\n",
      "[{'GameThronesamazingtvseries!': 1, 'GameThronesbesttvseries!': 0, 'GameThronesgreat': 0}, {'GameThronesamazingtvseries!': 0, 'GameThronesbesttvseries!': 1, 'GameThronesgreat': 0}, {'GameThronesamazingtvseries!': 0, 'GameThronesbesttvseries!': 0, 'GameThronesgreat': 1}]\n"
     ]
    },
    {
     "output_type": "execute_result",
     "data": {
      "text/plain": [
       "[dict_values([1, 0, 0]), dict_values([0, 1, 0]), dict_values([0, 0, 1])]"
      ]
     },
     "metadata": {},
     "execution_count": 13
    }
   ],
   "metadata": {}
  },
  {
   "cell_type": "code",
   "execution_count": 14,
   "source": [
    "# Creating word histogram\n",
    "import nltk\n",
    "word2count = {}\n",
    "for data in sentences:\n",
    "    words = nltk.word_tokenize(data) # we are split into words\n",
    "    for word in words:               # we are calling each word\n",
    "        if word not in word2count.keys(): # if the word not in dictionary, we are \n",
    "            word2count[word] = 1\n",
    "        else:\n",
    "            word2count[word] += 1\n",
    "print(word2count)"
   ],
   "outputs": [
    {
     "output_type": "stream",
     "name": "stdout",
     "text": [
      "{'Game': 3, 'of': 3, 'Thrones': 3, 'is': 3, 'an': 1, 'amazing': 1, 'tv': 2, 'series': 2, '!': 2, 'the': 1, 'best': 1, 'so': 1, 'great': 1}\n"
     ]
    }
   ],
   "metadata": {}
  },
  {
   "cell_type": "code",
   "execution_count": 15,
   "source": [
    "import matplotlib.pyplot as plt\n",
    "plt.hist(word2count,bins=40)"
   ],
   "outputs": [
    {
     "output_type": "execute_result",
     "data": {
      "text/plain": [
       "(array([1., 0., 0., 1., 0., 0., 1., 0., 0., 0., 1., 0., 0., 1., 0., 0., 1.,\n",
       "        0., 0., 0., 1., 0., 0., 1., 0., 0., 1., 0., 0., 0., 1., 0., 0., 1.,\n",
       "        0., 0., 1., 0., 0., 1.]),\n",
       " array([ 0. ,  0.3,  0.6,  0.9,  1.2,  1.5,  1.8,  2.1,  2.4,  2.7,  3. ,\n",
       "         3.3,  3.6,  3.9,  4.2,  4.5,  4.8,  5.1,  5.4,  5.7,  6. ,  6.3,\n",
       "         6.6,  6.9,  7.2,  7.5,  7.8,  8.1,  8.4,  8.7,  9. ,  9.3,  9.6,\n",
       "         9.9, 10.2, 10.5, 10.8, 11.1, 11.4, 11.7, 12. ]),\n",
       " <BarContainer object of 40 artists>)"
      ]
     },
     "metadata": {},
     "execution_count": 15
    },
    {
     "output_type": "display_data",
     "data": {
      "image/png": "[encoded data removed]",
      "text/plain": [
       "<Figure size 640x480 with 1 Axes>"
      ]
     },
     "metadata": {}
    }
   ],
   "metadata": {}
  }
 ],
 "nbformat": 4,
 "nbformat_minor": 2,
 "metadata": {
  "language_info": {
   "codemirror_mode": {
    "name": "ipython",
    "version": 3
   },
   "file_extension": ".py",
   "mimetype": "text/x-python",
   "name": "python",
   "nbconvert_exporter": "python",
   "pygments_lexer": "ipython3",
   "version": 3
  }
 }
}